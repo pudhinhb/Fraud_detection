{
 "cells": [
  {
   "cell_type": "code",
   "execution_count": null,
   "id": "f45a8efe-cffb-41b1-80ba-28e12ff8fc38",
   "metadata": {},
   "outputs": [],
   "source": [
    "!pip install scikit-learn\n"
   ]
  },
  {
   "cell_type": "code",
   "execution_count": 24,
   "id": "0c6b750b-2b74-47ea-b5fd-c3cf222970b5",
   "metadata": {},
   "outputs": [],
   "source": [
    "import pandas as pd\n",
    "from sklearn.preprocessing import StandardScaler\n",
    "from sklearn.model_selection import train_test_split\n",
    "from keras.models import Sequential\n",
    "from keras.layers import Dense, Dropout, Input"
   ]
  },
  {
   "cell_type": "code",
   "execution_count": null,
   "id": "350e652c-21cb-468c-8752-abf143fda5ab",
   "metadata": {},
   "outputs": [],
   "source": [
    "df = pd.read_csv(\"C:/Users/pudhin/Downloads/Fraud_Analysis_Dataset.csv\")\n",
    "print(df.head(1))  # Check the first row of the dataset\n",
    "print(df.columns)  # Print all column names"
   ]
  },
  {
   "cell_type": "code",
   "execution_count": null,
   "id": "960e7c47-1d64-4588-a3f8-48f376c91e3b",
   "metadata": {},
   "outputs": [],
   "source": [
    "print(df['isFraud'].unique()) "
   ]
  },
  {
   "cell_type": "code",
   "execution_count": 27,
   "id": "e69a3b88-9c2c-4dee-b157-41ec28a0d2ab",
   "metadata": {},
   "outputs": [],
   "source": [
    "X = df.drop(['isFraud', 'nameOrig', 'nameDest'], axis=1)"
   ]
  },
  {
   "cell_type": "code",
   "execution_count": 28,
   "id": "2c4409a5-27a2-48ff-9d7f-ed3cc10b0fa2",
   "metadata": {},
   "outputs": [],
   "source": [
    "label_encoder = LabelEncoder()\n",
    "X['type'] = label_encoder.fit_transform(X['type'])"
   ]
  },
  {
   "cell_type": "code",
   "execution_count": 29,
   "id": "0d67128e-a944-4a8d-975d-5d7381bd4b64",
   "metadata": {},
   "outputs": [],
   "source": [
    "y = df['isFraud']"
   ]
  },
  {
   "cell_type": "code",
   "execution_count": 30,
   "id": "a97c873a-f53e-47c1-b2b4-f6fc75748c3c",
   "metadata": {},
   "outputs": [],
   "source": [
    "X_train, X_test, y_train, y_test = train_test_split(X, y, test_size=0.1, random_state=1)"
   ]
  },
  {
   "cell_type": "code",
   "execution_count": 31,
   "id": "9c74fcae-1799-4b99-9f22-9fef5903d16a",
   "metadata": {},
   "outputs": [],
   "source": [
    "# Standardize the features\n",
    "sc = StandardScaler()\n",
    "X_train = sc.fit_transform(X_train)\n",
    "X_test = sc.transform(X_test)"
   ]
  },
  {
   "cell_type": "code",
   "execution_count": 32,
   "id": "d5da51ac-952b-412e-a934-e9be29ce19e2",
   "metadata": {},
   "outputs": [],
   "source": [
    "clf = Sequential([\n",
    "    Input(shape=(X_train.shape[1],)),  # Set input shape dynamically based on number of features\n",
    "    Dense(units=16, kernel_initializer='uniform', activation='relu'),\n",
    "    Dense(units=18, kernel_initializer='uniform', activation='relu'),\n",
    "    Dropout(0.25),\n",
    "    Dense(20, kernel_initializer='uniform', activation='relu'),\n",
    "    Dense(24, kernel_initializer='uniform', activation='relu'),\n",
    "    Dense(1, kernel_initializer='uniform', activation='sigmoid')  # Output layer with sigmoid activation\n",
    "])\n"
   ]
  },
  {
   "cell_type": "code",
   "execution_count": null,
   "id": "19aff39f-f4bb-419c-91a2-2ab6956957d0",
   "metadata": {},
   "outputs": [],
   "source": [
    "# Model summary\n",
    "clf.summary()"
   ]
  },
  {
   "cell_type": "code",
   "execution_count": 34,
   "id": "21ba11ec-83b5-4ee1-b569-e0e2fac031a3",
   "metadata": {},
   "outputs": [],
   "source": [
    "# Compile the model\n",
    "clf.compile(optimizer='adam', loss='binary_crossentropy', metrics=['accuracy'])"
   ]
  },
  {
   "cell_type": "code",
   "execution_count": null,
   "id": "29079e4c-ef2e-4515-b7f2-62d75f61bc95",
   "metadata": {},
   "outputs": [],
   "source": [
    "# Train the model\n",
    "clf.fit(X_train, y_train, batch_size=15, epochs=2)"
   ]
  },
  {
   "cell_type": "code",
   "execution_count": null,
   "id": "cd7481ea-063c-4e3b-8b39-4bd7e4584826",
   "metadata": {},
   "outputs": [],
   "source": [
    "# Evaluate the model\n",
    "score = clf.evaluate(X_test, y_test, batch_size=128)\n",
    "print('\\nAnd the Score is ', score[1] * 100, '%')"
   ]
  },
  {
   "cell_type": "code",
   "execution_count": null,
   "id": "78752fb7-aaf9-46b1-95f3-26eabd8b29f6",
   "metadata": {},
   "outputs": [],
   "source": [
    "# Print counts of fraudulent and non-fraudulent transactions in the test set\n",
    "fraudulent_count = (y_test == 1).sum()\n",
    "not_fraudulent_count = (y_test == 0).sum()\n",
    "print(f'Fraudulent transactions: {fraudulent_count}')\n",
    "print(f'Non-fraudulent transactions: {not_fraudulent_count}')"
   ]
  },
  {
   "cell_type": "code",
   "execution_count": null,
   "id": "c89b9742-f1f6-47d3-8139-03f49a464ebf",
   "metadata": {},
   "outputs": [],
   "source": []
  }
 ],
 "metadata": {
  "kernelspec": {
   "display_name": "Python 3 (ipykernel)",
   "language": "python",
   "name": "python3"
  },
  "language_info": {
   "codemirror_mode": {
    "name": "ipython",
    "version": 3
   },
   "file_extension": ".py",
   "mimetype": "text/x-python",
   "name": "python",
   "nbconvert_exporter": "python",
   "pygments_lexer": "ipython3",
   "version": "3.12.4"
  }
 },
 "nbformat": 4,
 "nbformat_minor": 5
}
